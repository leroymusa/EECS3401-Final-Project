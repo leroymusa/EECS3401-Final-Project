{
 "cells": [
  {
   "cell_type": "code",
   "execution_count": null,
   "id": "ff78007c",
   "metadata": {},
   "outputs": [],
   "source": [
    "# Import libraries\n",
    "# you can install missing library using pip install numpy \n",
    "import sklearn\n",
    "import numpy as np\n",
    "import pandas as pd\n",
    "import matplotlib.pyplot as plt\n",
    "import seaborn as sns\n",
    "\n",
    "# Download the dataset\n",
    "url = \"https://raw.githubusercontent.com/leroymusa/EECS3401-Final-Project/main/house_prices.csv\"\n",
    "housing_prices = pd.read_csv(url, sep=',')\n",
    "\n",
    "# backup copy of the dataset\n",
    "housing_backup = housing_prices\n",
    "housing_prices = housing_prices.drop('Unnamed: 0', axis=1) # dropping unnecessary column \n",
    "housing_prices = housing_prices[(housing_prices != 0).all(axis=1)] # removes rows that have zero values in any of the columns\n",
    "housing_prices = housing_prices.drop_duplicates()"
   ]
  },
  {
   "cell_type": "code",
   "execution_count": null,
   "id": "58029cc1",
   "metadata": {},
   "outputs": [],
   "source": [
    "from sklearn.compose import ColumnTransformer\n",
    "from sklearn.pipeline import make_pipeline\n",
    "from sklearn.preprocessing import OneHotEncoder\n",
    "from sklearn.impute import SimpleImputer\n",
    "from sklearn.preprocessing import StandardScaler\n",
    "# housing_prices = housing_prices.drop('location', axis = 1)\n",
    "num_cols = housing_prices.select_dtypes(include='number').columns.to_list()\n",
    "cat_cols = housing_prices.select_dtypes(exclude='number').columns.to_list()\n",
    "\n",
    "num_cols.remove(\"price\")\n",
    "\n",
    "#create pipelines for numeric and categorical columns\n",
    "\n",
    "num_pipeline = make_pipeline(SimpleImputer(strategy = 'mean'), StandardScaler())\n",
    "# sparse output is required or creates an error\n",
    "cat_pipeline = make_pipeline(SimpleImputer(strategy='most_frequent'), OneHotEncoder(sparse_output=False))\n",
    "\n",
    "\n",
    "#use ColumnTransformer to set the estimators and transformations\n",
    "preprocessing = ColumnTransformer([('num', num_pipeline, num_cols), ('cat', cat_pipeline, cat_cols)], remainder='passthrough')\n",
    "\n",
    "preprocessing"
   ]
  },
  {
   "cell_type": "code",
   "execution_count": null,
   "id": "45f649bb",
   "metadata": {},
   "outputs": [],
   "source": [
    "from sklearn.model_selection import train_test_split\n",
    "\n",
    "x = housing_prepared.drop([\"remainder__price\"], axis=1)\n",
    "y = housing_prepared[\"remainder__price\"]\n",
    "\n",
    "x_train, x_test, y_train, y_test = train_test_split(x, y, test_size=0.2, random_state=42)\n",
    "print(x_train.shape, y_train.shape, x_test.shape, y_test.shape)"
   ]
  },
  {
   "cell_type": "code",
   "execution_count": null,
   "id": "6f752ffd",
   "metadata": {},
   "outputs": [],
   "source": [
    "# Model 1\n",
    "from sklearn.linear_model import LinearRegression\n",
    "\n",
    "lr_model = LinearRegression()\n",
    "# training the model on the training data\n",
    "lr_model.fit(x_train,y_train)"
   ]
  },
  {
   "cell_type": "code",
   "execution_count": null,
   "id": "f01542af",
   "metadata": {},
   "outputs": [],
   "source": [
    "y_pred = lr_model.predict(x_test)"
   ]
  }
 ],
 "metadata": {
  "kernelspec": {
   "display_name": "Python 3 (ipykernel)",
   "language": "python",
   "name": "python3"
  },
  "language_info": {
   "codemirror_mode": {
    "name": "ipython",
    "version": 3
   },
   "file_extension": ".py",
   "mimetype": "text/x-python",
   "name": "python",
   "nbconvert_exporter": "python",
   "pygments_lexer": "ipython3",
   "version": "3.11.5"
  }
 },
 "nbformat": 4,
 "nbformat_minor": 5
}
